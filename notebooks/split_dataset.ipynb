{
 "cells": [
  {
   "cell_type": "code",
   "execution_count": 1,
   "id": "085b9f09",
   "metadata": {},
   "outputs": [],
   "source": [
    "import os, sys, inspect\n",
    "# conabio_ml_vision\n",
    "from conabio_ml_vision.datasets import ImageDataset\n",
    "from conabio_ml_vision.trainer.model import run_megadetector_inference\n",
    "from conabio_ml_vision.datasets import ImagePredictionDataset\n",
    "from conabio_ml_vision.utils.scripts import create_obj_level_ds_from_dets_and_anns"
   ]
  },
  {
   "cell_type": "code",
   "execution_count": 8,
   "id": "74499047",
   "metadata": {},
   "outputs": [],
   "source": [
    "# paths\n",
    "#missouri_ds_folder = os.path.join('/LUSTRE/users/ecoinf_admin/conabio_ml_vision/examples/classification/missouri/missouri_new_files')\n",
    "results_path = os.path.join('/LUSTRE/users/ecoinf_admin/conabio_ml_vision/examples/classification/missouri/missouri_new_files')\n",
    "#images_ds_csv = os.path.join(results_path, 'imgs_ds.csv')\n",
    "#out_detections_csv = os.path.join(results_path,'detections.csv')\n",
    "crops_ds_csv = os.path.join(results_path, 'crops_ds.csv')\n",
    "crops_folder = os.path.join(results_path, 'crop_images')\n",
    "split_crops_folder = os.path.join(results_path, 'split_crop_images')\n",
    "split_crops_csv = os.path.join(results_path, 'split_crops_ds.csv')\n",
    "#megadet_model_path = '/LUSTRE/users/ecoinf_admin/conabio_ml_vision/examples/files/megadetector_v5a.pt'\n",
    "#frames_w_bboxes_folder = os.path.join(results_path, 'frames_w_bboxes_folder')\n"
   ]
  },
  {
   "cell_type": "code",
   "execution_count": 4,
   "id": "e6260c98",
   "metadata": {},
   "outputs": [
    {
     "name": "stderr",
     "output_type": "stream",
     "text": [
      "2022-10-20 01:46:34,055 [conabio_ml.datasets.dataset] [INFO ]  Creating dataset from CSV file: /LUSTRE/users/ecoinf_admin/conabio_ml_vision/examples/classification/missouri/missouri_new_files/crops_ds.csv\n",
      "2022-10-20 01:46:34,116 [conabio_ml.datasets.dataset] [DEBUG]  Assigning labelmap with 14 categories (0: agouti, 1: collared_peccary, 2: common_opossum, 3: european_hare, 4: ocelot, 5: paca, 6: red_brocket_deer, 7: red_fox, 8: red_squirrel, 9: roe_deer...)\n",
      "2022-10-20 01:46:36,096 [conabio_ml_vision.datasets.media] [INFO ]  2900  validated items found\n",
      "2022-10-20 01:46:36,105 [conabio_ml_vision.datasets.datasets] [INFO ]  Splitting dataset in a stratified fashion with proportions: train: 0.5, test: 0.5 and val: 0.0\n"
     ]
    }
   ],
   "source": [
    "# constantes\n",
    "img_ds = ImageDataset.from_csv(crops_ds_csv, images_dir=crops_folder,append_label_to_item_path=True, \n",
    "                               clean_cat_names=False)\n",
    "split_img_ds = img_ds.split(train_perc = 0.5,\n",
    "              test_perc = 0.5,\n",
    "              stratify=True)"
   ]
  },
  {
   "cell_type": "code",
   "execution_count": 10,
   "id": "6da7d096",
   "metadata": {},
   "outputs": [
    {
     "name": "stderr",
     "output_type": "stream",
     "text": [
      "2022-10-20 01:49:49,562 [conabio_ml.datasets.dataset] [INFO ]  CSV file /LUSTRE/users/ecoinf_admin/conabio_ml_vision/examples/classification/missouri/missouri_new_files/split_crops_ds.csv created\n",
      "2022-10-20 01:49:49,564 [conabio_ml.datasets.dataset] [INFO ]  Writing the elements of the datasetin the folder /LUSTRE/users/ecoinf_admin/conabio_ml_vision/examples/classification/missouri/missouri_new_files/split_crop_images\n"
     ]
    },
    {
     "data": {
      "text/plain": [
       "'/LUSTRE/users/ecoinf_admin/conabio_ml_vision/examples/classification/missouri/missouri_new_files/split_crop_images'"
      ]
     },
     "execution_count": 10,
     "metadata": {},
     "output_type": "execute_result"
    }
   ],
   "source": [
    "split_img_ds.to_csv(split_crops_csv,remove_label_to_item_path=True)\n",
    "split_img_ds.to_folder(split_crops_folder)"
   ]
  }
 ],
 "metadata": {
  "kernelspec": {
   "display_name": "Python 3.9.6 64-bit",
   "language": "python",
   "name": "python3"
  },
  "language_info": {
   "codemirror_mode": {
    "name": "ipython",
    "version": 3
   },
   "file_extension": ".py",
   "mimetype": "text/x-python",
   "name": "python",
   "nbconvert_exporter": "python",
   "pygments_lexer": "ipython3",
   "version": "3.9.6"
  },
  "vscode": {
   "interpreter": {
    "hash": "31f2aee4e71d21fbe5cf8b01ff0e069b9275f58929596ceb00d14d90e3e16cd6"
   }
  }
 },
 "nbformat": 4,
 "nbformat_minor": 5
}
