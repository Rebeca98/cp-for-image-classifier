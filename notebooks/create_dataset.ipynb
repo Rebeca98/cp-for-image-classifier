{
 "cells": [
  {
   "cell_type": "code",
   "execution_count": 3,
   "id": "1b1863c7",
   "metadata": {},
   "outputs": [],
   "source": [
    "import os, sys, inspect\n",
    "# conabio_ml_vision\n",
    "from conabio_ml_vision.datasets import ImageDataset\n",
    "from conabio_ml_vision.trainer.model import run_megadetector_inference\n",
    "from conabio_ml_vision.datasets import ImagePredictionDataset\n",
    "from conabio_ml_vision.utils.scripts import create_obj_level_ds_from_dets_and_anns"
   ]
  },
  {
   "cell_type": "code",
   "execution_count": 5,
   "id": "cdcf0645",
   "metadata": {},
   "outputs": [],
   "source": [
    "# paths\n",
    "missouri_ds_folder = os.path.join('/LUSTRE/users/ecoinf_admin/conabio_ml_vision/examples/classification/missouri/data')\n",
    "results_path = os.path.join('/LUSTRE/users/ecoinf_admin/conabio_ml_vision/examples/classification/missouri/missourifiles')\n",
    "images_ds_csv = os.path.join(results_path, 'imgs_ds.csv')\n",
    "out_detections_csv = os.path.join(results_path,'detections.csv')\n",
    "crops_ds_csv = os.path.join(results_path, 'crops_ds.csv')\n",
    "crops_folder = os.path.join(results_path, 'crop_images')\n",
    "megadet_model_path = '/LUSTRE/users/ecoinf_admin/conabio_ml_vision/examples/files/megadetector_v5a.pt'\n",
    "frames_w_bboxes_folder = os.path.join(results_path, 'frames_w_bboxes_folder')\n"
   ]
  },
  {
   "cell_type": "code",
   "execution_count": 6,
   "id": "6efb2030",
   "metadata": {},
   "outputs": [],
   "source": [
    "# constantes\n",
    "MIN_SCORE_DETS = 0.2"
   ]
  },
  {
   "cell_type": "code",
   "execution_count": 4,
   "id": "7bb532a9",
   "metadata": {},
   "outputs": [
    {
     "name": "stderr",
     "output_type": "stream",
     "text": [
      "2022-10-05 20:43:07,390 [conabio_ml_vision.datasets.media] [DEBUG]  No valid folder names for partitions. Set split_by_folder to False\n",
      "2022-10-05 20:43:07,401 [conabio_ml.datasets.dataset] [INFO ]  Creating dataset from folder: /LUSTRE/users/ecoinf_admin/conabio_ml_vision/examples/classification/missouri/data\n",
      "2022-10-05 20:43:07,754 [conabio_ml.datasets.dataset] [DEBUG]  487 files found for extensions .JPG, .jpg, .bmp, .png in /LUSTRE/users/ecoinf_admin/conabio_ml_vision/examples/classification/missouri/data\n",
      "2022-10-05 20:43:07,839 [conabio_ml.datasets.dataset] [WARNI]  Some categories of the labelmapare not contained in the dataset\n",
      "2022-10-05 20:43:07,840 [conabio_ml.datasets.dataset] [DEBUG]  Assigning labelmap with 13 categories (0: Collared_Peccary, 1: Common_Opossum, 2: European_Hare, 3: Ocelot, 4: Paca, 5: Red_Brocket_Deer, 6: Red_Fox, 7: Red_Squirrel, 8: Roe_deer, 9: Spiny_Rat...)\n",
      "2022-10-05 20:43:07,891 [conabio_ml_vision.datasets.media] [INFO ]  487  validated items found\n",
      "2022-10-05 20:43:07,972 [conabio_ml.datasets.dataset] [INFO ]  CSV file /LUSTRE/users/ecoinf_admin/conabio_ml_vision/examples/classification/missouri/missourifiles/imgs_ds.csv created\n",
      "2022-10-05 20:43:07,974 [conabio_ml.datasets.dataset] [INFO ]  Creating dataset from CSV file: /LUSTRE/users/ecoinf_admin/conabio_ml_vision/examples/classification/missouri/missourifiles/imgs_ds.csv\n",
      "2022-10-05 20:43:07,987 [conabio_ml.datasets.dataset] [WARNI]  Some categories of the labelmapare not contained in the dataset\n",
      "2022-10-05 20:43:07,987 [conabio_ml.datasets.dataset] [DEBUG]  Assigning labelmap with 13 categories (0: Collared_Peccary, 1: Common_Opossum, 2: European_Hare, 3: Ocelot, 4: Paca, 5: Red_Brocket_Deer, 6: Red_Fox, 7: Red_Squirrel, 8: Roe_deer, 9: Spiny_Rat...)\n",
      "2022-10-05 20:43:08,026 [conabio_ml_vision.datasets.media] [INFO ]  487  validated items found\n"
     ]
    }
   ],
   "source": [
    "imgs_missouri_ds = ImageDataset.from_folder(missouri_ds_folder,\n",
    "                                               label_by_folder_name=True,\n",
    "                                               split_by_folde=True)\n",
    "\n",
    "\n",
    "\n",
    "\n",
    "imgs_missouri_ds.to_csv(images_ds_csv,remove_label_to_item_path=True)\n",
    "img_ds = ImageDataset.from_csv(images_ds_csv, images_dir=missouri_ds_folder,append_label_to_item_path=True, \n",
    "                               clean_cat_names=False)"
   ]
  },
  {
   "cell_type": "code",
   "execution_count": 5,
   "id": "61d1f849",
   "metadata": {},
   "outputs": [
    {
     "name": "stderr",
     "output_type": "stream",
     "text": [
      "2022-10-05 20:43:14,550 [conabio_ml_vision.trainer.model] [INFO ]  Using labelmap for prediction: [{1: 'Animal'}, {2: 'Person'}, {3: 'Vehicle'}]...\n",
      "Fusing layers... \n",
      "Model summary: 574 layers, 139990096 parameters, 0 gradients\n",
      "  0%|          | 0/487 [00:00<?, ?it/s]"
     ]
    },
    {
     "name": "stdout",
     "output_type": "stream",
     "text": [
      "Loaded 487 image filenames from list file /LUSTRE/users/ecoinf_admin/conabio_ml_vision/examples/classification/missouri/missourifiles/__megadetector_imgs.json\n",
      "PyTorch reports 0 available CUDA devices\n",
      "GPU available: False\n",
      "Using PyTorch version 1.10.1\n",
      "Loaded model in 3.44 seconds\n",
      "Loaded model in 3.44 seconds\n"
     ]
    },
    {
     "name": "stderr",
     "output_type": "stream",
     "text": [
      "100%|██████████| 487/487 [09:59<00:00,  1.23s/it]\n"
     ]
    },
    {
     "name": "stdout",
     "output_type": "stream",
     "text": [
      "Finished inference for 487 images in 10 minutes and 7.01 seconds\n",
      "Warning: could not determine MegaDetector version for model file megadetector_v5a.pt\n",
      "Warning: no metadata for unknown detector version unknown\n",
      "Output file saved at /LUSTRE/users/ecoinf_admin/conabio_ml_vision/examples/classification/missouri/missourifiles/__megadetector_out.json\n",
      "Done!\n"
     ]
    },
    {
     "name": "stderr",
     "output_type": "stream",
     "text": [
      "2022-10-05 20:53:22,988 [conabio_ml.datasets.dataset] [DEBUG]  Assigning labelmap with 1 categories (1: animal)\n",
      "2022-10-05 20:53:23,015 [conabio_ml_vision.datasets.media] [INFO ]  602  validated items found\n",
      "2022-10-05 20:53:23,042 [conabio_ml_vision.utils.dataset_utils] [INFO ]  Getting images sizes from stored files...\n",
      "2022-10-05 20:53:23,677 [conabio_ml.datasets.dataset] [INFO ]  CSV file /LUSTRE/users/ecoinf_admin/conabio_ml_vision/examples/classification/missouri/missourifiles/detections.csv created\n"
     ]
    }
   ],
   "source": [
    "run_megadetector_inference(dataset=imgs_missouri_ds,\n",
    "                            out_predictions_csv=out_detections_csv,\n",
    "                                   images_dir=missouri_ds_folder,\n",
    "                                   model_path=megadet_model_path,\n",
    "                                   min_score_threshold=MIN_SCORE_DETS,\n",
    "                                   num_tasks=None,\n",
    "                                   task_num=None)"
   ]
  },
  {
   "cell_type": "code",
   "execution_count": 15,
   "id": "370f9ad0",
   "metadata": {},
   "outputs": [],
   "source": [
    "def crop_images(detections_csv,frames_folder,crops_ds_csv,crops_folder):\n",
    "    \"\"\"\n",
    "    Crop the images using bounding boxes coordinates generated by Megadetector's inference.  \n",
    "    Save the resulted ImageDataset as a csv file \n",
    "    \n",
    "    Parameters\n",
    "    ----------\n",
    "    detections_csv: string\n",
    "        path to csv file with detections from megadetector. \n",
    "    frames_folder: string\n",
    "        path to folder with video frames\n",
    "    crops_ds_csv: string\n",
    "        path to csv file with crop images dataset\n",
    "    crops_folder: string\n",
    "        path to folder with crop images\n",
    "    \n",
    "    \n",
    "    Returns\n",
    "    -------\n",
    "    crops_ds: ImageDataset\n",
    "        ImageDataset object of crop images\n",
    "    \"\"\"\n",
    "    if not os.path.isfile(crops_ds_csv):\n",
    "        dets_ds = ImagePredictionDataset.from_csv(detections_csv, images_dir=frames_folder)\n",
    "        crops_ds = dets_ds.create_classif_ds_from_det_crops(\n",
    "                    dest_path=crops_folder,\n",
    "                    score_threshold=0.1)\n",
    "        crops_ds.to_csv(crops_ds_csv)\n",
    "    else:\n",
    "        crops_ds = ImageDataset.from_csv(crops_ds_csv,images_dir=crops_folder)\n",
    "    return crops_ds"
   ]
  },
  {
   "cell_type": "code",
   "execution_count": 6,
   "id": "1824e6cd",
   "metadata": {},
   "outputs": [
    {
     "name": "stderr",
     "output_type": "stream",
     "text": [
      "2022-10-05 21:03:17,604 [conabio_ml.datasets.dataset] [INFO ]  Creating dataset from CSV file: /LUSTRE/users/ecoinf_admin/conabio_ml_vision/examples/classification/missouri/missourifiles/detections.csv\n",
      "2022-10-05 21:03:17,617 [conabio_ml.datasets.dataset] [DEBUG]  Assigning labelmap with 1 categories (1: animal)\n",
      "2022-10-05 21:03:17,662 [conabio_ml_vision.datasets.media] [INFO ]  602  validated items found\n"
     ]
    }
   ],
   "source": [
    "# para que todos apunten al mismo lugar:\n",
    "\n",
    "dets_ds = ImagePredictionDataset.from_csv(source_path=out_detections_csv,images_dir=missouri_ds_folder)"
   ]
  },
  {
   "cell_type": "code",
   "execution_count": 83,
   "id": "b65c39f7",
   "metadata": {},
   "outputs": [
    {
     "data": {
      "text/plain": [
       "'/LUSTRE/users/ecoinf_admin/conabio_ml_vision/examples/classification/missouri/data/Roe_deer/SEQ76392_IMG_0014.JPG'"
      ]
     },
     "execution_count": 83,
     "metadata": {},
     "output_type": "execute_result"
    }
   ],
   "source": [
    "#dets_ds.get_rows().item[0]\n",
    "#img_ds.get_rows().item[0]"
   ]
  },
  {
   "cell_type": "code",
   "execution_count": 7,
   "id": "c1cd48cb",
   "metadata": {},
   "outputs": [
    {
     "name": "stderr",
     "output_type": "stream",
     "text": [
      "2022-10-05 21:03:22,473 [conabio_ml.datasets.dataset] [WARNI]  Some categories of the labelmapare not contained in the dataset\n",
      "2022-10-05 21:03:22,475 [conabio_ml.datasets.dataset] [DEBUG]  Assigning labelmap with 13 categories (0: Collared_Peccary, 1: Common_Opossum, 2: European_Hare, 3: Ocelot, 4: Paca, 5: Red_Brocket_Deer, 6: Red_Fox, 7: Red_Squirrel, 8: Roe_deer, 9: Spiny_Rat...)\n",
      "2022-10-05 21:03:22,494 [conabio_ml_vision.datasets.media] [INFO ]  487 not validated items found\n",
      "2022-10-05 21:03:22,522 [conabio_ml.datasets.dataset] [WARNI]  Some categories of the labelmapare not contained in the dataset\n",
      "2022-10-05 21:03:22,523 [conabio_ml.datasets.dataset] [DEBUG]  Assigning labelmap with 13 categories (1: Collared_Peccary, 2: Common_Opossum, 3: European_Hare, 4: Ocelot, 5: Paca, 6: Red_Brocket_Deer, 7: Red_Fox, 8: Red_Squirrel, 9: Roe_deer, 10: Spiny_Rat...)\n"
     ]
    }
   ],
   "source": [
    "animal_dets_obj_level_ds = create_obj_level_ds_from_dets_and_anns(detections=dets_ds,\n",
    "                                           annotations=img_ds,\n",
    "                                           images_dir=missouri_ds_folder,\n",
    "                                           inherit_fields=[],\n",
    "                                           inherit_partitions=False,\n",
    "                                           annot_categories=None,\n",
    "                                           exclude_annot_categories=None,\n",
    "                                           det_categories=None,\n",
    "                                           exclude_det_categories=None,\n",
    "                                           min_score_detections=0.001,\n",
    "                                           include_detection_score=True)"
   ]
  },
  {
   "cell_type": "code",
   "execution_count": 8,
   "id": "ca440ccf",
   "metadata": {},
   "outputs": [
    {
     "data": {
      "text/html": [
       "<div>\n",
       "<style scoped>\n",
       "    .dataframe tbody tr th:only-of-type {\n",
       "        vertical-align: middle;\n",
       "    }\n",
       "\n",
       "    .dataframe tbody tr th {\n",
       "        vertical-align: top;\n",
       "    }\n",
       "\n",
       "    .dataframe thead th {\n",
       "        text-align: right;\n",
       "    }\n",
       "</style>\n",
       "<table border=\"1\" class=\"dataframe\">\n",
       "  <thead>\n",
       "    <tr style=\"text-align: right;\">\n",
       "      <th></th>\n",
       "      <th>item</th>\n",
       "      <th>label</th>\n",
       "      <th>bbox</th>\n",
       "      <th>id</th>\n",
       "      <th>image_id</th>\n",
       "      <th>score_det</th>\n",
       "    </tr>\n",
       "  </thead>\n",
       "  <tbody>\n",
       "    <tr>\n",
       "      <th>0</th>\n",
       "      <td>/LUSTRE/users/ecoinf_admin/conabio_ml_vision/e...</td>\n",
       "      <td>Roe_deer</td>\n",
       "      <td>199,689,554,359</td>\n",
       "      <td>b681f75a-5ae6-4506-a2fc-3ef8f5cbfc76</td>\n",
       "      <td>SEQ76392_IMG_0014</td>\n",
       "      <td>0.930</td>\n",
       "    </tr>\n",
       "    <tr>\n",
       "      <th>1</th>\n",
       "      <td>/LUSTRE/users/ecoinf_admin/conabio_ml_vision/e...</td>\n",
       "      <td>Roe_deer</td>\n",
       "      <td>177,748,145,112</td>\n",
       "      <td>53eb7608-f294-464e-96d6-692d1c3e3ee5</td>\n",
       "      <td>SEQ76392_IMG_0011</td>\n",
       "      <td>0.859</td>\n",
       "    </tr>\n",
       "    <tr>\n",
       "      <th>2</th>\n",
       "      <td>/LUSTRE/users/ecoinf_admin/conabio_ml_vision/e...</td>\n",
       "      <td>Roe_deer</td>\n",
       "      <td>296,697,491,354</td>\n",
       "      <td>3ed386bc-2d09-48dc-9371-b4cbf7329181</td>\n",
       "      <td>SEQ76392_IMG_0011</td>\n",
       "      <td>0.917</td>\n",
       "    </tr>\n",
       "    <tr>\n",
       "      <th>3</th>\n",
       "      <td>/LUSTRE/users/ecoinf_admin/conabio_ml_vision/e...</td>\n",
       "      <td>Roe_deer</td>\n",
       "      <td>555,756,88,140</td>\n",
       "      <td>0e36237c-6ca8-460b-8810-33fa961dbace</td>\n",
       "      <td>SEQ76392_IMG_0018</td>\n",
       "      <td>0.766</td>\n",
       "    </tr>\n",
       "    <tr>\n",
       "      <th>4</th>\n",
       "      <td>/LUSTRE/users/ecoinf_admin/conabio_ml_vision/e...</td>\n",
       "      <td>Roe_deer</td>\n",
       "      <td>0,716,328,363</td>\n",
       "      <td>80af26be-c97a-4df8-9d8f-351c5a990333</td>\n",
       "      <td>SEQ76392_IMG_0018</td>\n",
       "      <td>0.950</td>\n",
       "    </tr>\n",
       "    <tr>\n",
       "      <th>...</th>\n",
       "      <td>...</td>\n",
       "      <td>...</td>\n",
       "      <td>...</td>\n",
       "      <td>...</td>\n",
       "      <td>...</td>\n",
       "      <td>...</td>\n",
       "    </tr>\n",
       "    <tr>\n",
       "      <th>597</th>\n",
       "      <td>/LUSTRE/users/ecoinf_admin/conabio_ml_vision/e...</td>\n",
       "      <td>Spiny_Rat</td>\n",
       "      <td>1063,989,228,454</td>\n",
       "      <td>a6306850-3af2-44d5-acfb-dc9aea627dd9</td>\n",
       "      <td>SEQ80957_IMG_0005</td>\n",
       "      <td>0.951</td>\n",
       "    </tr>\n",
       "    <tr>\n",
       "      <th>598</th>\n",
       "      <td>/LUSTRE/users/ecoinf_admin/conabio_ml_vision/e...</td>\n",
       "      <td>Spiny_Rat</td>\n",
       "      <td>1000,773,176,479</td>\n",
       "      <td>b2943583-3975-4ace-b4b7-5ae363582b35</td>\n",
       "      <td>SEQ80957_IMG_0007</td>\n",
       "      <td>0.941</td>\n",
       "    </tr>\n",
       "    <tr>\n",
       "      <th>599</th>\n",
       "      <td>/LUSTRE/users/ecoinf_admin/conabio_ml_vision/e...</td>\n",
       "      <td>Spiny_Rat</td>\n",
       "      <td>990,969,183,233</td>\n",
       "      <td>5bedbb38-8f57-45dc-8096-eded4387149b</td>\n",
       "      <td>SEQ80957_IMG_0008</td>\n",
       "      <td>0.935</td>\n",
       "    </tr>\n",
       "    <tr>\n",
       "      <th>600</th>\n",
       "      <td>/LUSTRE/users/ecoinf_admin/conabio_ml_vision/e...</td>\n",
       "      <td>Spiny_Rat</td>\n",
       "      <td>1345,1192,616,311</td>\n",
       "      <td>a07c9d86-7c17-4311-9d51-8ae84170bbb3</td>\n",
       "      <td>SEQ80957_IMG_0003</td>\n",
       "      <td>0.938</td>\n",
       "    </tr>\n",
       "    <tr>\n",
       "      <th>601</th>\n",
       "      <td>/LUSTRE/users/ecoinf_admin/conabio_ml_vision/e...</td>\n",
       "      <td>Spiny_Rat</td>\n",
       "      <td>1015,1023,228,357</td>\n",
       "      <td>6aab8716-8d9d-465a-a2d2-1ede1ebdc0d8</td>\n",
       "      <td>SEQ80957_IMG_0006</td>\n",
       "      <td>0.955</td>\n",
       "    </tr>\n",
       "  </tbody>\n",
       "</table>\n",
       "<p>602 rows × 6 columns</p>\n",
       "</div>"
      ],
      "text/plain": [
       "                                                  item      label  \\\n",
       "0    /LUSTRE/users/ecoinf_admin/conabio_ml_vision/e...   Roe_deer   \n",
       "1    /LUSTRE/users/ecoinf_admin/conabio_ml_vision/e...   Roe_deer   \n",
       "2    /LUSTRE/users/ecoinf_admin/conabio_ml_vision/e...   Roe_deer   \n",
       "3    /LUSTRE/users/ecoinf_admin/conabio_ml_vision/e...   Roe_deer   \n",
       "4    /LUSTRE/users/ecoinf_admin/conabio_ml_vision/e...   Roe_deer   \n",
       "..                                                 ...        ...   \n",
       "597  /LUSTRE/users/ecoinf_admin/conabio_ml_vision/e...  Spiny_Rat   \n",
       "598  /LUSTRE/users/ecoinf_admin/conabio_ml_vision/e...  Spiny_Rat   \n",
       "599  /LUSTRE/users/ecoinf_admin/conabio_ml_vision/e...  Spiny_Rat   \n",
       "600  /LUSTRE/users/ecoinf_admin/conabio_ml_vision/e...  Spiny_Rat   \n",
       "601  /LUSTRE/users/ecoinf_admin/conabio_ml_vision/e...  Spiny_Rat   \n",
       "\n",
       "                  bbox                                    id  \\\n",
       "0      199,689,554,359  b681f75a-5ae6-4506-a2fc-3ef8f5cbfc76   \n",
       "1      177,748,145,112  53eb7608-f294-464e-96d6-692d1c3e3ee5   \n",
       "2      296,697,491,354  3ed386bc-2d09-48dc-9371-b4cbf7329181   \n",
       "3       555,756,88,140  0e36237c-6ca8-460b-8810-33fa961dbace   \n",
       "4        0,716,328,363  80af26be-c97a-4df8-9d8f-351c5a990333   \n",
       "..                 ...                                   ...   \n",
       "597   1063,989,228,454  a6306850-3af2-44d5-acfb-dc9aea627dd9   \n",
       "598   1000,773,176,479  b2943583-3975-4ace-b4b7-5ae363582b35   \n",
       "599    990,969,183,233  5bedbb38-8f57-45dc-8096-eded4387149b   \n",
       "600  1345,1192,616,311  a07c9d86-7c17-4311-9d51-8ae84170bbb3   \n",
       "601  1015,1023,228,357  6aab8716-8d9d-465a-a2d2-1ede1ebdc0d8   \n",
       "\n",
       "              image_id  score_det  \n",
       "0    SEQ76392_IMG_0014      0.930  \n",
       "1    SEQ76392_IMG_0011      0.859  \n",
       "2    SEQ76392_IMG_0011      0.917  \n",
       "3    SEQ76392_IMG_0018      0.766  \n",
       "4    SEQ76392_IMG_0018      0.950  \n",
       "..                 ...        ...  \n",
       "597  SEQ80957_IMG_0005      0.951  \n",
       "598  SEQ80957_IMG_0007      0.941  \n",
       "599  SEQ80957_IMG_0008      0.935  \n",
       "600  SEQ80957_IMG_0003      0.938  \n",
       "601  SEQ80957_IMG_0006      0.955  \n",
       "\n",
       "[602 rows x 6 columns]"
      ]
     },
     "execution_count": 8,
     "metadata": {},
     "output_type": "execute_result"
    }
   ],
   "source": [
    "animal_dets_obj_level_ds.get_rows()"
   ]
  },
  {
   "cell_type": "markdown",
   "id": "08db800a",
   "metadata": {},
   "source": [
    "Ese función te regresa una instancia de ImageDataset con la que después llamas a create_classif_ds_from_bboxes_crops  para que haga los recortes, y luego haces un to_folder para que guarde los crops en las carpetas por cada label"
   ]
  },
  {
   "cell_type": "code",
   "execution_count": 9,
   "id": "54c9a2a4",
   "metadata": {},
   "outputs": [
    {
     "name": "stderr",
     "output_type": "stream",
     "text": [
      "2022-10-05 21:03:29,138 [conabio_ml_vision.datasets.datasets] [INFO ]  Creating classification dataset from detection bboxes.\n",
      "2022-10-05 21:03:29,176 [conabio_ml_vision.datasets.datasets] [INFO ]  Generating 602 crops from detection dataset\n",
      "2022-10-05 21:03:31,439 [conabio_ml.datasets.dataset] [WARNI]  Some categories of the labelmapare not contained in the dataset\n",
      "2022-10-05 21:03:31,440 [conabio_ml.datasets.dataset] [DEBUG]  Assigning labelmap with 13 categories (0: Collared_Peccary, 1: Common_Opossum, 2: European_Hare, 3: Ocelot, 4: Paca, 5: Red_Brocket_Deer, 6: Red_Fox, 7: Red_Squirrel, 8: Roe_deer, 9: Spiny_Rat...)\n",
      "2022-10-05 21:03:31,485 [conabio_ml_vision.datasets.media] [INFO ]  602  validated items found\n",
      "2022-10-05 21:03:31,526 [conabio_ml.datasets.dataset] [INFO ]  CSV file /LUSTRE/users/ecoinf_admin/conabio_ml_vision/examples/classification/missouri/missourifiles/crops_ds.csv created\n",
      "2022-10-05 21:03:31,527 [conabio_ml.datasets.dataset] [INFO ]  Writing the elements of the datasetin the folder /LUSTRE/users/ecoinf_admin/conabio_ml_vision/examples/classification/missouri/missourifiles/crop_images\n"
     ]
    },
    {
     "data": {
      "text/plain": [
       "'/LUSTRE/users/ecoinf_admin/conabio_ml_vision/examples/classification/missouri/missourifiles/crop_images'"
      ]
     },
     "execution_count": 9,
     "metadata": {},
     "output_type": "execute_result"
    }
   ],
   "source": [
    "crops_ds = animal_dets_obj_level_ds.create_classif_ds_from_bboxes_crops(\n",
    "    dest_path=None, allow_label_empty=True) # esto ayuda cuando tenemos los resultados del megadetector y mis etiquetas del dataset\n",
    "crops_ds.to_csv(crops_ds_csv)\n",
    "crops_ds.to_folder(crops_folder)"
   ]
  },
  {
   "cell_type": "markdown",
   "id": "3fd9ccfa",
   "metadata": {},
   "source": [
    "Sí, aunque habría que asegurarnos que no haya recortes de una misma imagen en particiones distintas\n",
    "Eso se puede hacer agrupando por el campo image_id a la hora de hacer el split, eso se le pasa en el parámetro group_by_field"
   ]
  },
  {
   "cell_type": "code",
   "execution_count": 1,
   "id": "a54c5c0a",
   "metadata": {},
   "outputs": [],
   "source": [
    "from conabio_ml_vision.utils.scripts import visualize_detections_in_ds"
   ]
  },
  {
   "cell_type": "code",
   "execution_count": 9,
   "id": "bee92a5b",
   "metadata": {},
   "outputs": [
    {
     "name": "stderr",
     "output_type": "stream",
     "text": [
      "2022-10-06 23:22:36,055 [conabio_ml.datasets.dataset] [INFO ]  Creating dataset from CSV file: /LUSTRE/users/ecoinf_admin/conabio_ml_vision/examples/classification/missouri/missourifiles/imgs_ds.csv\n",
      "2022-10-06 23:22:36,067 [conabio_ml.datasets.dataset] [WARNI]  Some categories of the labelmapare not contained in the dataset\n",
      "2022-10-06 23:22:36,068 [conabio_ml.datasets.dataset] [DEBUG]  Assigning labelmap with 13 categories (0: Collared_Peccary, 1: Common_Opossum, 2: European_Hare, 3: Ocelot, 4: Paca, 5: Red_Brocket_Deer, 6: Red_Fox, 7: Red_Squirrel, 8: Roe_deer, 9: Spiny_Rat...)\n",
      "2022-10-06 23:22:36,110 [conabio_ml_vision.datasets.media] [INFO ]  487  validated items found\n"
     ]
    }
   ],
   "source": [
    "imgs_ds = ImageDataset.from_csv(images_ds_csv, images_dir=missouri_ds_folder,append_label_to_item_path=True, \n",
    "                               clean_cat_names=False)"
   ]
  },
  {
   "cell_type": "code",
   "execution_count": 10,
   "id": "3e2d1c19",
   "metadata": {},
   "outputs": [
    {
     "name": "stderr",
     "output_type": "stream",
     "text": [
      "2022-10-06 23:22:40,187 [conabio_ml_vision.utils.scripts] [INFO ]  Visualizing detections of images in folder /LUSTRE/users/ecoinf_admin/conabio_ml_vision/examples/classification/missouri/missourifiles/frames_w_bboxes_folder\n",
      "2022-10-06 23:22:40,191 [conabio_ml.datasets.dataset] [INFO ]  Creating dataset from CSV file: /LUSTRE/users/ecoinf_admin/conabio_ml_vision/examples/classification/missouri/missourifiles/detections.csv\n",
      "2022-10-06 23:22:40,201 [conabio_ml.datasets.dataset] [DEBUG]  Assigning labelmap with 1 categories (1: animal)\n",
      "2022-10-06 23:22:40,244 [conabio_ml_vision.datasets.media] [INFO ]  602  validated items found\n",
      "2022-10-06 23:22:40,248 [conabio_ml.datasets.dataset] [DEBUG]  Assigning labelmap with 1 categories (1: animal)\n"
     ]
    }
   ],
   "source": [
    "visualize_detections_in_ds(images_ds=imgs_ds, \n",
    "                                   detections=out_detections_csv,\n",
    "                                   images_dir=missouri_ds_folder,\n",
    "                                   dest_dir=frames_w_bboxes_folder,\n",
    "                                   min_score_dets=MIN_SCORE_DETS,\n",
    "                                   score_thres_colors=0.95)"
   ]
  },
  {
   "cell_type": "code",
   "execution_count": null,
   "id": "201c1271",
   "metadata": {},
   "outputs": [],
   "source": []
  }
 ],
 "metadata": {
  "kernelspec": {
   "display_name": "Python 3.9.6 64-bit",
   "language": "python",
   "name": "python3"
  },
  "language_info": {
   "codemirror_mode": {
    "name": "ipython",
    "version": 3
   },
   "file_extension": ".py",
   "mimetype": "text/x-python",
   "name": "python",
   "nbconvert_exporter": "python",
   "pygments_lexer": "ipython3",
   "version": "3.9.6"
  },
  "vscode": {
   "interpreter": {
    "hash": "31f2aee4e71d21fbe5cf8b01ff0e069b9275f58929596ceb00d14d90e3e16cd6"
   }
  }
 },
 "nbformat": 4,
 "nbformat_minor": 5
}
